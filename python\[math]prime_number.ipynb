{
  "nbformat": 4,
  "nbformat_minor": 0,
  "metadata": {
    "colab": {
      "provenance": [],
      "authorship_tag": "ABX9TyNiLY841bz9TE11wrVRyB13",
      "include_colab_link": true
    },
    "kernelspec": {
      "name": "python3",
      "display_name": "Python 3"
    },
    "language_info": {
      "name": "python"
    }
  },
  "cells": [
    {
      "cell_type": "markdown",
      "metadata": {
        "id": "view-in-github",
        "colab_type": "text"
      },
      "source": [
        "<a href=\"https://colab.research.google.com/github/mizma2k/_practice/blob/main/python%5C%5Bmath%5Dprime_number.ipynb\" target=\"_parent\"><img src=\"https://colab.research.google.com/assets/colab-badge.svg\" alt=\"Open In Colab\"/></a>"
      ]
    },
    {
      "cell_type": "code",
      "execution_count": null,
      "metadata": {
        "colab": {
          "base_uri": "https://localhost:8080/"
        },
        "id": "ytGlkz-rm6Hx",
        "outputId": "54a5d146-7225-4665-af34-4339b3978e86"
      },
      "outputs": [
        {
          "name": "stdout",
          "output_type": "stream",
          "text": [
            "輸入區間最小值: 1\n",
            "輸入區間最大值: 100\n"
          ]
        }
      ],
      "source": [
        "# 輸出指定範圍內的素數(prime number,又稱質數，有無限個。除了1和它本身以外不再被其他的除數整除。)\n",
        "\n",
        "# take input from the user\n",
        "lower = int(input(\"輸入區間最小值: \"))\n",
        "upper = int(input(\"輸入區間最大值: \"))"
      ]
    },
    {
      "cell_type": "code",
      "source": [
        "for num in range(lower,upper + 1):\n",
        "    # 素數大於 1\n",
        "    if num > 1:\n",
        "        for i in range(2,num):\n",
        "            if (num % i) == 0:\n",
        "                break\n",
        "        else:\n",
        "            print(num)"
      ],
      "metadata": {
        "colab": {
          "base_uri": "https://localhost:8080/"
        },
        "id": "R2bkm5Z2m-86",
        "outputId": "d52ccefa-3fe1-4a00-b470-c3bb32123f05"
      },
      "execution_count": null,
      "outputs": [
        {
          "output_type": "stream",
          "name": "stdout",
          "text": [
            "2\n",
            "3\n",
            "5\n",
            "7\n",
            "11\n",
            "13\n",
            "17\n",
            "19\n",
            "23\n",
            "29\n",
            "31\n",
            "37\n",
            "41\n",
            "43\n",
            "47\n",
            "53\n",
            "59\n",
            "61\n",
            "67\n",
            "71\n",
            "73\n",
            "79\n",
            "83\n",
            "89\n",
            "97\n"
          ]
        }
      ]
    }
  ]
}